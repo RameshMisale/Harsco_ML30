{
 "cells": [
  {
   "cell_type": "markdown",
   "id": "55498676",
   "metadata": {},
   "source": [
    "###  Predicting resubmit/returned profiles using machine learning "
   ]
  },
  {
   "cell_type": "markdown",
   "id": "8be4a508",
   "metadata": {},
   "source": [
    "Importing all required modules"
   ]
  },
  {
   "cell_type": "code",
   "execution_count": 1,
   "id": "976adb15",
   "metadata": {},
   "outputs": [],
   "source": [
    "import pandas as pd\n",
    "import numpy as np\n",
    "import matplotlib\n",
    "from matplotlib import pyplot as plt\n",
    "from sklearn import metrics \n",
    "pd.set_option('display.max_columns', 0)\n",
    "from sklearn.model_selection import train_test_split\n",
    "from sklearn.ensemble import RandomForestClassifier\n",
    "from sklearn.metrics import accuracy_score, classification_report\n",
    "from sklearn.model_selection import StratifiedShuffleSplit\n",
    "from sklearn.preprocessing import OneHotEncoder, LabelEncoder\n",
    "from sklearn.ensemble import RandomForestClassifier, ExtraTreesClassifier\n",
    "from sklearn.dummy import DummyClassifier\n",
    "from sklearn.metrics import classification_report, accuracy_score\n",
    "from sklearn.metrics import  confusion_matrix\n",
    "from sklearn.feature_selection import VarianceThreshold\n",
    "from statsmodels.stats.outliers_influence import variance_inflation_factor\n",
    "import seaborn as sns\n",
    "from sklearn.feature_selection import mutual_info_classif\n",
    "from sklearn.metrics import precision_score, recall_score, f1_score\n",
    "from sklearn.naive_bayes import GaussianNB\n",
    "from sklearn.neighbors import KNeighborsClassifier"
   ]
  },
  {
   "cell_type": "markdown",
   "id": "cfad34e6",
   "metadata": {},
   "source": [
    "Loading the dataset using pandas"
   ]
  },
  {
   "cell_type": "code",
   "execution_count": 2,
   "id": "6c0a6b8f",
   "metadata": {},
   "outputs": [],
   "source": [
    "df = pd.read_excel(r\"C:\\Users\\RameshMisale\\Downloads\\Latest_profile_data.xlsx\")"
   ]
  },
  {
   "cell_type": "code",
   "execution_count": 3,
   "id": "89119faf",
   "metadata": {},
   "outputs": [
    {
     "data": {
      "text/plain": [
       "(65968, 278)"
      ]
     },
     "execution_count": 3,
     "metadata": {},
     "output_type": "execute_result"
    }
   ],
   "source": [
    "df.shape"
   ]
  },
  {
   "cell_type": "code",
   "execution_count": 4,
   "id": "589c2525",
   "metadata": {},
   "outputs": [],
   "source": [
    "df1 = df.copy()"
   ]
  },
  {
   "cell_type": "markdown",
   "id": "2df6a684",
   "metadata": {},
   "source": [
    "The resubmit stage in datetime format so converting into binary and this is our target variable "
   ]
  },
  {
   "cell_type": "code",
   "execution_count": 5,
   "id": "65f9f710",
   "metadata": {},
   "outputs": [],
   "source": [
    "df1['Resubmit'] = pd.to_datetime(df1['Resubmit'])\n",
    "df1['Resubmit_binary'] = df1['queue_desc'].apply(lambda x: 1 if x=='Resubmit' else 0)"
   ]
  },
  {
   "cell_type": "code",
   "execution_count": 6,
   "id": "4e121888",
   "metadata": {},
   "outputs": [
    {
     "data": {
      "text/plain": [
       "0    64493\n",
       "1     1475\n",
       "Name: Resubmit_binary, dtype: int64"
      ]
     },
     "execution_count": 6,
     "metadata": {},
     "output_type": "execute_result"
    }
   ],
   "source": [
    "df1['Resubmit_binary'].value_counts() "
   ]
  },
  {
   "cell_type": "markdown",
   "id": "60af88b8",
   "metadata": {},
   "source": [
    "Filling the null values "
   ]
  },
  {
   "cell_type": "code",
   "execution_count": 7,
   "id": "20b060e3",
   "metadata": {},
   "outputs": [],
   "source": [
    "columns_to_fill = ['rcra_non_haz_exempt','halogens_flag','no_reactivity_flag','layered','viscosity','odor_flag','ph_flag',\n",
    "    'flash_point_flag','boiling_point_flag','btu_per_lbs','pumpable_waste_flag','polymerizable_flag','benzene_waste_flag',\n",
    "    'voc_100_ppm','marine_pollutant_flag','origin_code','sds_attached','specific_gravity','benzene_section_flag',\n",
    "    'max_benzene_flag','benzene_water','prohibited_land_disposal','uts_waste','voc_500_ppm','specialpricing_flag',\n",
    "    'intercompany_flag','mgp_flag','pa_waste_catogory','debris','compressed_gas','analytical_ind',\n",
    "    'generatorknowledge_ind','sds_ind','formulary_attached','analytical_attached','sample_provided','mgplock_flag',\n",
    "    'naics_flag','federal_universal_waste','generator_state_universal_waste']\n",
    "df1[columns_to_fill] = df1[columns_to_fill].fillna(0, inplace=False)"
   ]
  },
  {
   "cell_type": "code",
   "execution_count": 8,
   "id": "aacc0bd5",
   "metadata": {},
   "outputs": [],
   "source": [
    "col = ['water_percentage', 'toc_percentage']\n",
    "df1[col] = df1[col].fillna(df1[col].mean(), inplace=False)"
   ]
  },
  {
   "cell_type": "markdown",
   "id": "64b6a6ab",
   "metadata": {},
   "source": [
    "Dropping the object and datatime columns"
   ]
  },
  {
   "cell_type": "code",
   "execution_count": 9,
   "id": "b31abd84",
   "metadata": {},
   "outputs": [
    {
     "name": "stdout",
     "output_type": "stream",
     "text": [
      "Index(['profile_number', 'profile_name', 'description', 'status_desc',\n",
      "       'queue_desc', 'Initiated', 'HistoryInitiated', 'Submitted', 'Assigned',\n",
      "       'Resubmit', 'ReadyForGenSign', 'SentForGenSign', 'DocSignReturned',\n",
      "       'Approved', 'vendor_name', 'OriginStatus', 'SourceSystem',\n",
      "       'GeneratorName', 'Customer Service Rep', 'CustomerName', 'Salesrep',\n",
      "       'SalesrepEmail', 'profile_number.1', 'profile_name.1',\n",
      "       'rcra_process_generating', 'pcbs_ppm', 'cyanides_ppm', 'sulfides_ppm',\n",
      "       'pesticides_ppm', 'dioxins_ppm', 'halogens_pct', 'other_reactivity',\n",
      "       'solid_pct', 'sludges_pct', 'free_liquids_pct', 'dust_pct', 'odor_desc',\n",
      "       'color_desc', 'density', 'ph_exact_value', 'comments',\n",
      "       'record_create_datetime', 'approval_letter_notes',\n",
      "       'helper_approval_date', 'helper_recert_needed_date',\n",
      "       'helper_last_received_date', 'helper_expired_date', 'approval_date',\n",
      "       'helper_first_received_date', 'bulk_sample_anniversary_date',\n",
      "       'outbound_expiration_date', 'customer_signature_datetime',\n",
      "       'customer_signature_name', 'customer_signature_title',\n",
      "       'notify_on_first_receipt_last_updated', 'PurchaseOrderNumber',\n",
      "       'viscosity_actual', 'specific_gravity_actual', 'flashpoint_actual',\n",
      "       'btu_actual', 'waste_characteristics_boxes', 'max_benzene',\n",
      "       'prohibited_land_disposal_actual', 'uts_waste_actual',\n",
      "       'boiling_pt_actual', 'flashpoint_scale', 'boiling_scale',\n",
      "       'RCRA_exemption_reason', 'naics_codes', 'Activate_Date',\n",
      "       'expiration_Date', 'disposal_instructions_comments', 'pricing_status',\n",
      "       'LastModifiedDate', 'container_size_type', 'web_generator_number',\n",
      "       'Tx_in_state_code'],\n",
      "      dtype='object')\n"
     ]
    }
   ],
   "source": [
    "object_columns = df1.select_dtypes(include=['object','datetime64']).columns\n",
    "df_dropped_objects = df1.drop(object_columns, axis=1)\n",
    "print(object_columns)"
   ]
  },
  {
   "cell_type": "markdown",
   "id": "ee0e3cbb",
   "metadata": {},
   "source": [
    "Feature selection dropping constant feature"
   ]
  },
  {
   "cell_type": "code",
   "execution_count": 10,
   "id": "b4f61199",
   "metadata": {},
   "outputs": [
    {
     "name": "stderr",
     "output_type": "stream",
     "text": [
      "C:\\Users\\RameshMisale\\anaconda3\\Lib\\site-packages\\sklearn\\feature_selection\\_variance_threshold.py:112: RuntimeWarning: Degrees of freedom <= 0 for slice.\n",
      "  self.variances_ = np.nanvar(X, axis=0)\n",
      "C:\\Users\\RameshMisale\\anaconda3\\Lib\\site-packages\\sklearn\\feature_selection\\_variance_threshold.py:120: RuntimeWarning: All-NaN slice encountered\n",
      "  self.variances_ = np.nanmin(compare_arr, axis=0)\n"
     ]
    },
    {
     "data": {
      "text/html": [
       "<style>#sk-container-id-1 {color: black;}#sk-container-id-1 pre{padding: 0;}#sk-container-id-1 div.sk-toggleable {background-color: white;}#sk-container-id-1 label.sk-toggleable__label {cursor: pointer;display: block;width: 100%;margin-bottom: 0;padding: 0.3em;box-sizing: border-box;text-align: center;}#sk-container-id-1 label.sk-toggleable__label-arrow:before {content: \"▸\";float: left;margin-right: 0.25em;color: #696969;}#sk-container-id-1 label.sk-toggleable__label-arrow:hover:before {color: black;}#sk-container-id-1 div.sk-estimator:hover label.sk-toggleable__label-arrow:before {color: black;}#sk-container-id-1 div.sk-toggleable__content {max-height: 0;max-width: 0;overflow: hidden;text-align: left;background-color: #f0f8ff;}#sk-container-id-1 div.sk-toggleable__content pre {margin: 0.2em;color: black;border-radius: 0.25em;background-color: #f0f8ff;}#sk-container-id-1 input.sk-toggleable__control:checked~div.sk-toggleable__content {max-height: 200px;max-width: 100%;overflow: auto;}#sk-container-id-1 input.sk-toggleable__control:checked~label.sk-toggleable__label-arrow:before {content: \"▾\";}#sk-container-id-1 div.sk-estimator input.sk-toggleable__control:checked~label.sk-toggleable__label {background-color: #d4ebff;}#sk-container-id-1 div.sk-label input.sk-toggleable__control:checked~label.sk-toggleable__label {background-color: #d4ebff;}#sk-container-id-1 input.sk-hidden--visually {border: 0;clip: rect(1px 1px 1px 1px);clip: rect(1px, 1px, 1px, 1px);height: 1px;margin: -1px;overflow: hidden;padding: 0;position: absolute;width: 1px;}#sk-container-id-1 div.sk-estimator {font-family: monospace;background-color: #f0f8ff;border: 1px dotted black;border-radius: 0.25em;box-sizing: border-box;margin-bottom: 0.5em;}#sk-container-id-1 div.sk-estimator:hover {background-color: #d4ebff;}#sk-container-id-1 div.sk-parallel-item::after {content: \"\";width: 100%;border-bottom: 1px solid gray;flex-grow: 1;}#sk-container-id-1 div.sk-label:hover label.sk-toggleable__label {background-color: #d4ebff;}#sk-container-id-1 div.sk-serial::before {content: \"\";position: absolute;border-left: 1px solid gray;box-sizing: border-box;top: 0;bottom: 0;left: 50%;z-index: 0;}#sk-container-id-1 div.sk-serial {display: flex;flex-direction: column;align-items: center;background-color: white;padding-right: 0.2em;padding-left: 0.2em;position: relative;}#sk-container-id-1 div.sk-item {position: relative;z-index: 1;}#sk-container-id-1 div.sk-parallel {display: flex;align-items: stretch;justify-content: center;background-color: white;position: relative;}#sk-container-id-1 div.sk-item::before, #sk-container-id-1 div.sk-parallel-item::before {content: \"\";position: absolute;border-left: 1px solid gray;box-sizing: border-box;top: 0;bottom: 0;left: 50%;z-index: -1;}#sk-container-id-1 div.sk-parallel-item {display: flex;flex-direction: column;z-index: 1;position: relative;background-color: white;}#sk-container-id-1 div.sk-parallel-item:first-child::after {align-self: flex-end;width: 50%;}#sk-container-id-1 div.sk-parallel-item:last-child::after {align-self: flex-start;width: 50%;}#sk-container-id-1 div.sk-parallel-item:only-child::after {width: 0;}#sk-container-id-1 div.sk-dashed-wrapped {border: 1px dashed gray;margin: 0 0.4em 0.5em 0.4em;box-sizing: border-box;padding-bottom: 0.4em;background-color: white;}#sk-container-id-1 div.sk-label label {font-family: monospace;font-weight: bold;display: inline-block;line-height: 1.2em;}#sk-container-id-1 div.sk-label-container {text-align: center;}#sk-container-id-1 div.sk-container {/* jupyter's `normalize.less` sets `[hidden] { display: none; }` but bootstrap.min.css set `[hidden] { display: none !important; }` so we also need the `!important` here to be able to override the default hidden behavior on the sphinx rendered scikit-learn.org. See: https://github.com/scikit-learn/scikit-learn/issues/21755 */display: inline-block !important;position: relative;}#sk-container-id-1 div.sk-text-repr-fallback {display: none;}</style><div id=\"sk-container-id-1\" class=\"sk-top-container\"><div class=\"sk-text-repr-fallback\"><pre>VarianceThreshold(threshold=0)</pre><b>In a Jupyter environment, please rerun this cell to show the HTML representation or trust the notebook. <br />On GitHub, the HTML representation is unable to render, please try loading this page with nbviewer.org.</b></div><div class=\"sk-container\" hidden><div class=\"sk-item\"><div class=\"sk-estimator sk-toggleable\"><input class=\"sk-toggleable__control sk-hidden--visually\" id=\"sk-estimator-id-1\" type=\"checkbox\" checked><label for=\"sk-estimator-id-1\" class=\"sk-toggleable__label sk-toggleable__label-arrow\">VarianceThreshold</label><div class=\"sk-toggleable__content\"><pre>VarianceThreshold(threshold=0)</pre></div></div></div></div></div>"
      ],
      "text/plain": [
       "VarianceThreshold(threshold=0)"
      ]
     },
     "execution_count": 10,
     "metadata": {},
     "output_type": "execute_result"
    }
   ],
   "source": [
    "var_thres=VarianceThreshold(threshold=0)\n",
    "var_thres.fit(df_dropped_objects)"
   ]
  },
  {
   "cell_type": "markdown",
   "id": "a25c9baa",
   "metadata": {},
   "source": [
    "Printing the columns with their values which are constants "
   ]
  },
  {
   "cell_type": "code",
   "execution_count": 11,
   "id": "0d25b226",
   "metadata": {},
   "outputs": [
    {
     "name": "stdout",
     "output_type": "stream",
     "text": [
      "Number of constant columns: 17\n",
      "Constant column: phenolics_ppm\n",
      "Unique values: [nan  0.]\n",
      "\n",
      "\n",
      "Constant column: minimum_packaging_requirements\n",
      "Unique values: [nan]\n",
      "\n",
      "\n",
      "Constant column: outbound_profile_taxes\n",
      "Unique values: [nan]\n",
      "\n",
      "\n",
      "Constant column: inbound_oubound_id_xref\n",
      "Unique values: [nan]\n",
      "\n",
      "\n",
      "Constant column: ky_report_physical_state_ind\n",
      "Unique values: [nan]\n",
      "\n",
      "\n",
      "Constant column: ky_report_onsite_ind\n",
      "Unique values: [nan]\n",
      "\n",
      "\n",
      "Constant column: contract_id\n",
      "Unique values: [nan]\n",
      "\n",
      "\n",
      "Constant column: sic_code\n",
      "Unique values: [nan]\n",
      "\n",
      "\n",
      "Constant column: pet_chem_flag\n",
      "Unique values: [nan  0.]\n",
      "\n",
      "\n",
      "Constant column: pet_chem_actual\n",
      "Unique values: [nan]\n",
      "\n",
      "\n",
      "Constant column: cokeoven_flag\n",
      "Unique values: [ 0. nan]\n",
      "\n",
      "\n",
      "Constant column: HCSId\n",
      "Unique values: [ 0. nan]\n",
      "\n",
      "\n",
      "Constant column: container_size_flag\n",
      "Unique values: [ 1. nan]\n",
      "\n",
      "\n",
      "Constant column: waste_type_id\n",
      "Unique values: [nan]\n",
      "\n",
      "\n",
      "Constant column: highly_toxic_flag\n",
      "Unique values: [nan  0.]\n",
      "\n",
      "\n",
      "Constant column: incin_prep_flag\n",
      "Unique values: [nan  1.]\n",
      "\n",
      "\n",
      "Constant column: no_uhcs_flag\n",
      "Unique values: [nan  1.]\n",
      "\n",
      "\n"
     ]
    }
   ],
   "source": [
    "constant_columns = [column for column in df_dropped_objects.columns\n",
    "                    if column not in df_dropped_objects.columns[var_thres.get_support()]]\n",
    "print(f\"Number of constant columns: {len(constant_columns)}\")\n",
    "for feature in constant_columns:\n",
    "    unique_values = df_dropped_objects[feature].unique()\n",
    "    print(f\"Constant column: {feature}\")\n",
    "    print(f\"Unique values: {unique_values}\")\n",
    "    print(\"\\n\")\n"
   ]
  },
  {
   "cell_type": "code",
   "execution_count": 12,
   "id": "5b1076fc",
   "metadata": {},
   "outputs": [],
   "source": [
    "data = df_dropped_objects.drop(constant_columns,axis=1) "
   ]
  },
  {
   "cell_type": "markdown",
   "id": "8f44968d",
   "metadata": {},
   "source": [
    "Feature_selection by correlation and dropped the features which are having >80% correlation with each other"
   ]
  },
  {
   "cell_type": "code",
   "execution_count": 13,
   "id": "e114a626",
   "metadata": {},
   "outputs": [],
   "source": [
    "def correlation(dataset,threshold):\n",
    "    col_corr=set()\n",
    "    corr_matrix=dataset.corr()\n",
    "    for i in range(len(corr_matrix.columns)):\n",
    "        for j in range(i):\n",
    "            if abs(corr_matrix.iloc[i,j]>threshold):\n",
    "                colname=corr_matrix.columns[i]\n",
    "                col_corr.add(colname)\n",
    "    return col_corr"
   ]
  },
  {
   "cell_type": "code",
   "execution_count": 14,
   "id": "db2617a7",
   "metadata": {},
   "outputs": [
    {
     "name": "stdout",
     "output_type": "stream",
     "text": [
      "{'use_eei_rate', 'infectious_flag', 'organic_peroxide_flag', 'no_reactivity_flag', 'CustomerId.1', 'waste_water_flag', 'dust_hazard_flag', 'pesticide_herbicide_flag', 'unused_commercial_product_flag', 'asbestos_friable_flag', 'ProfiledTonnage', 'formulary_attached', 'standard_flag.1', 'cercla_flag', 'JobID', 'layered', 'puso_flag', 'rush_flag.1', 'vendor_id.1', 'isRecertified.1', 'outbound_vendor_id.1', 'subpart_p_flag', 'flammable_solid_flag', 'web_profile_number.1', 'outbound_profile_ind.1', 'presignedstatus', 'radioactive_flag', 'cylinder_flag', 'oxidizer_flag', 'urgent_flag.1', 'metals_flag', 'initial_revision_profile_id', 'OracleLocationCode', 'ppe_code_id', 'ammonia_flag', 'spill_residue_flag', 'company_id', 'RevenueAssignedToVendorId', 'profile_id.1', 'btu_per_lbs', 'none_flag', 'pfas_pfoa_flag', 'loosepack_flag', 'rcra_debris_flag', 'copied_from_Id.1', 'ph_flag', 'oral_toxicity_flag_liquid', 'medical_sharps_needles_flag', 'bulk_solid_flag', 'subject_to_subpart_cc_flag', 'asbestos_non_friable_flag', 'aphis_waste_flag'}\n"
     ]
    }
   ],
   "source": [
    "corr_features=correlation(data,0.8)\n",
    "len(set(corr_features))\n",
    "print(corr_features)"
   ]
  },
  {
   "cell_type": "code",
   "execution_count": 15,
   "id": "6747bc6f",
   "metadata": {},
   "outputs": [],
   "source": [
    "data1=data.drop(corr_features,axis=1)"
   ]
  },
  {
   "cell_type": "markdown",
   "id": "ba418b96",
   "metadata": {},
   "source": [
    "Dropping the columns which are having >90 % of null values"
   ]
  },
  {
   "cell_type": "code",
   "execution_count": 16,
   "id": "87aa708f",
   "metadata": {},
   "outputs": [],
   "source": [
    "threshold_percentage = 90 \n",
    "null_percentage = (data1.isnull().sum() / len(data1)) * 100\n",
    "columns_to_drop = null_percentage[null_percentage > threshold_percentage].index\n",
    "data1_dropped = data1.drop(columns=columns_to_drop)\n",
    "#data1_dropped.isnull().sum()"
   ]
  },
  {
   "cell_type": "code",
   "execution_count": 17,
   "id": "c97f4879",
   "metadata": {},
   "outputs": [],
   "source": [
    "data1_dropped = data1_dropped.fillna(0) "
   ]
  },
  {
   "cell_type": "code",
   "execution_count": 18,
   "id": "e2cbc403",
   "metadata": {},
   "outputs": [
    {
     "data": {
      "text/plain": [
       "(65968, 86)"
      ]
     },
     "execution_count": 18,
     "metadata": {},
     "output_type": "execute_result"
    }
   ],
   "source": [
    "df_final = data1_dropped.drop(columns=['DaysAssignReadyForGenSign','profile_id','ReturnCount',\n",
    "                                  'DaysSubmitToAssign','DaysAssignReadyForGenSign','DaysReadyForGenSignSentForGenSign',\n",
    "                            'container_type_id','DaysInitiatedToSubmitted',\n",
    "'vendor_id','ContractID','ldr_class_id','CustomerId','CollectionId','DaysDocSignReturnedToApproved',\n",
    "'Recert','is_template_profile_flag','status_code_id','source_code_id','form_code_id',\n",
    "'management_method_code_id','outbound_profile_id','price_type_code_id','health_chemical_identity_id',\n",
    "'flammability_chemical_identity_id','reactivity_chemical_identity_id','process_code_id',\n",
    "'SalesrepID','InternalCoordinatorID','MarketDriverID','InsideSalesRepID','requested_process_code_id'],axis=1)\n",
    "df_final.shape"
   ]
  },
  {
   "cell_type": "code",
   "execution_count": 19,
   "id": "3d5e8be2",
   "metadata": {},
   "outputs": [
    {
     "data": {
      "text/plain": [
       "Index(['web_profile_number', 'DaysSentForGenSignToDocSignReturned', 'IsHaz',\n",
       "       'outbound_profile_ind', 'isRecertified', 'standard_flag', 'rush_flag',\n",
       "       'urgent_flag', 'rcra_non_haz_exempt', 'pcbs_flag', 'cyanides_flag',\n",
       "       'sulfides_flag', 'pesticides_flag', 'halogens_flag',\n",
       "       'infectious_bio_waste_flag', 'nrc_regulated_radioactive_flag',\n",
       "       'pyrophoric_reactivity_flag', 'cyanides_reactivity_flag',\n",
       "       'sulfides_reactivity_flag', 'water_reactivity_flag',\n",
       "       'shock_reactivity_flag', 'dot_explosive_flag', 'gas_flag',\n",
       "       'aerosol_flag', 'lab_pack_flag', 'monolith_flag', 'solid_flag',\n",
       "       'sludges_flag', 'free_liquids_flag', 'dust_flag', 'viscosity',\n",
       "       'odor_flag', 'flash_point_flag', 'boiling_point_flag',\n",
       "       'poisonous_by_inhalation_flag', 'vented_drums_flag',\n",
       "       'pumpable_waste_flag', 'polymerizable_flag', 'benzene_waste_flag',\n",
       "       'ozone_depleting_flag', 'large_scape_pieces_flag', 'voc_100_ppm',\n",
       "       'marine_pollutant_flag', 'parent_profile_id',\n",
       "       'auto_approve_children_ind', 'notify_on_first_receipt_ind',\n",
       "       'ApprovedTonnage', 'closure_or_cleanup_ind', 'origin_code',\n",
       "       'sds_attached', 'specific_gravity', 'benzene_section_flag',\n",
       "       'max_benzene_flag', 'benzene_water', 'prohibited_land_disposal',\n",
       "       'uts_waste', 'tsca_flag', 'ldr_on_file_flag', 'voc_500_ppm',\n",
       "       'labpack_flag', 'directship_flag', 'specialpricing_flag',\n",
       "       'intercompany_flag', 'hybrid_flag', 'mgp_flag', 'national_flag',\n",
       "       'pa_waste_catogory', 'water_percentage', 'toc_percentage', 'debris',\n",
       "       'compressed_gas', 'analytical_ind', 'F006_PreCursor',\n",
       "       'generatorknowledge_ind', 'sds_ind', 'analytical_attached',\n",
       "       'sample_provided', 'mgplock_flag', 'naics_flag', 'chem_coke_pet_flag',\n",
       "       'AssignUser_id', 'label_type', 'federal_universal_waste',\n",
       "       'generator_state_universal_waste', 'revision_num', 'Resubmit_binary'],\n",
       "      dtype='object')"
      ]
     },
     "execution_count": 19,
     "metadata": {},
     "output_type": "execute_result"
    }
   ],
   "source": [
    "df_final.columns"
   ]
  },
  {
   "cell_type": "code",
   "execution_count": 20,
   "id": "8ca08120",
   "metadata": {},
   "outputs": [
    {
     "data": {
      "text/html": [
       "<div>\n",
       "<style scoped>\n",
       "    .dataframe tbody tr th:only-of-type {\n",
       "        vertical-align: middle;\n",
       "    }\n",
       "\n",
       "    .dataframe tbody tr th {\n",
       "        vertical-align: top;\n",
       "    }\n",
       "\n",
       "    .dataframe thead th {\n",
       "        text-align: right;\n",
       "    }\n",
       "</style>\n",
       "<table border=\"1\" class=\"dataframe\">\n",
       "  <thead>\n",
       "    <tr style=\"text-align: right;\">\n",
       "      <th></th>\n",
       "      <th>flash_point_flag</th>\n",
       "      <th>water_reactivity_flag</th>\n",
       "      <th>monolith_flag</th>\n",
       "      <th>sulfides_reactivity_flag</th>\n",
       "      <th>cyanides_reactivity_flag</th>\n",
       "      <th>intercompany_flag</th>\n",
       "      <th>specialpricing_flag</th>\n",
       "      <th>benzene_waste_flag</th>\n",
       "      <th>sulfides_flag</th>\n",
       "      <th>solid_flag</th>\n",
       "      <th>hybrid_flag</th>\n",
       "      <th>shock_reactivity_flag</th>\n",
       "      <th>nrc_regulated_radioactive_flag</th>\n",
       "      <th>lab_pack_flag</th>\n",
       "      <th>gas_flag</th>\n",
       "      <th>directship_flag</th>\n",
       "      <th>naics_flag</th>\n",
       "      <th>infectious_bio_waste_flag</th>\n",
       "      <th>mgp_flag</th>\n",
       "      <th>aerosol_flag</th>\n",
       "      <th>pyrophoric_reactivity_flag</th>\n",
       "      <th>sludges_flag</th>\n",
       "      <th>parent_profile_id</th>\n",
       "      <th>pcbs_flag</th>\n",
       "      <th>halogens_flag</th>\n",
       "      <th>cyanides_flag</th>\n",
       "      <th>pesticides_flag</th>\n",
       "      <th>dot_explosive_flag</th>\n",
       "      <th>boiling_point_flag</th>\n",
       "      <th>isRecertified</th>\n",
       "      <th>labpack_flag</th>\n",
       "      <th>national_flag</th>\n",
       "      <th>Resubmit_binary</th>\n",
       "    </tr>\n",
       "  </thead>\n",
       "  <tbody>\n",
       "    <tr>\n",
       "      <th>0</th>\n",
       "      <td>0.0</td>\n",
       "      <td>0</td>\n",
       "      <td>0.0</td>\n",
       "      <td>0</td>\n",
       "      <td>0</td>\n",
       "      <td>0.0</td>\n",
       "      <td>0.0</td>\n",
       "      <td>0.0</td>\n",
       "      <td>0.0</td>\n",
       "      <td>0.0</td>\n",
       "      <td>0.0</td>\n",
       "      <td>0</td>\n",
       "      <td>0.0</td>\n",
       "      <td>0</td>\n",
       "      <td>0.0</td>\n",
       "      <td>0.0</td>\n",
       "      <td>0.0</td>\n",
       "      <td>0.0</td>\n",
       "      <td>0.0</td>\n",
       "      <td>0.0</td>\n",
       "      <td>0.0</td>\n",
       "      <td>0.0</td>\n",
       "      <td>0.0</td>\n",
       "      <td>0</td>\n",
       "      <td>1.0</td>\n",
       "      <td>0.0</td>\n",
       "      <td>0.0</td>\n",
       "      <td>0</td>\n",
       "      <td>0.0</td>\n",
       "      <td>0</td>\n",
       "      <td>0.0</td>\n",
       "      <td>0.0</td>\n",
       "      <td>0</td>\n",
       "    </tr>\n",
       "    <tr>\n",
       "      <th>1</th>\n",
       "      <td>2.0</td>\n",
       "      <td>0</td>\n",
       "      <td>0.0</td>\n",
       "      <td>0</td>\n",
       "      <td>0</td>\n",
       "      <td>0.0</td>\n",
       "      <td>0.0</td>\n",
       "      <td>0.0</td>\n",
       "      <td>0.0</td>\n",
       "      <td>0.0</td>\n",
       "      <td>0.0</td>\n",
       "      <td>0</td>\n",
       "      <td>0.0</td>\n",
       "      <td>0</td>\n",
       "      <td>0.0</td>\n",
       "      <td>0.0</td>\n",
       "      <td>0.0</td>\n",
       "      <td>0.0</td>\n",
       "      <td>0.0</td>\n",
       "      <td>0.0</td>\n",
       "      <td>0.0</td>\n",
       "      <td>0.0</td>\n",
       "      <td>464539.0</td>\n",
       "      <td>0</td>\n",
       "      <td>0.0</td>\n",
       "      <td>0.0</td>\n",
       "      <td>0.0</td>\n",
       "      <td>0</td>\n",
       "      <td>0.0</td>\n",
       "      <td>1</td>\n",
       "      <td>0.0</td>\n",
       "      <td>0.0</td>\n",
       "      <td>0</td>\n",
       "    </tr>\n",
       "    <tr>\n",
       "      <th>2</th>\n",
       "      <td>0.0</td>\n",
       "      <td>0</td>\n",
       "      <td>0.0</td>\n",
       "      <td>0</td>\n",
       "      <td>0</td>\n",
       "      <td>0.0</td>\n",
       "      <td>0.0</td>\n",
       "      <td>0.0</td>\n",
       "      <td>0.0</td>\n",
       "      <td>0.0</td>\n",
       "      <td>0.0</td>\n",
       "      <td>0</td>\n",
       "      <td>0.0</td>\n",
       "      <td>0</td>\n",
       "      <td>0.0</td>\n",
       "      <td>0.0</td>\n",
       "      <td>0.0</td>\n",
       "      <td>0.0</td>\n",
       "      <td>0.0</td>\n",
       "      <td>0.0</td>\n",
       "      <td>0.0</td>\n",
       "      <td>0.0</td>\n",
       "      <td>560846.0</td>\n",
       "      <td>0</td>\n",
       "      <td>1.0</td>\n",
       "      <td>0.0</td>\n",
       "      <td>0.0</td>\n",
       "      <td>0</td>\n",
       "      <td>0.0</td>\n",
       "      <td>1</td>\n",
       "      <td>0.0</td>\n",
       "      <td>0.0</td>\n",
       "      <td>0</td>\n",
       "    </tr>\n",
       "    <tr>\n",
       "      <th>3</th>\n",
       "      <td>5.0</td>\n",
       "      <td>0</td>\n",
       "      <td>0.0</td>\n",
       "      <td>0</td>\n",
       "      <td>0</td>\n",
       "      <td>0.0</td>\n",
       "      <td>0.0</td>\n",
       "      <td>0.0</td>\n",
       "      <td>0.0</td>\n",
       "      <td>0.0</td>\n",
       "      <td>0.0</td>\n",
       "      <td>0</td>\n",
       "      <td>0.0</td>\n",
       "      <td>0</td>\n",
       "      <td>0.0</td>\n",
       "      <td>0.0</td>\n",
       "      <td>0.0</td>\n",
       "      <td>0.0</td>\n",
       "      <td>0.0</td>\n",
       "      <td>0.0</td>\n",
       "      <td>0.0</td>\n",
       "      <td>0.0</td>\n",
       "      <td>560845.0</td>\n",
       "      <td>0</td>\n",
       "      <td>1.0</td>\n",
       "      <td>0.0</td>\n",
       "      <td>0.0</td>\n",
       "      <td>0</td>\n",
       "      <td>0.0</td>\n",
       "      <td>1</td>\n",
       "      <td>0.0</td>\n",
       "      <td>0.0</td>\n",
       "      <td>0</td>\n",
       "    </tr>\n",
       "    <tr>\n",
       "      <th>4</th>\n",
       "      <td>4.0</td>\n",
       "      <td>0</td>\n",
       "      <td>0.0</td>\n",
       "      <td>0</td>\n",
       "      <td>0</td>\n",
       "      <td>0.0</td>\n",
       "      <td>0.0</td>\n",
       "      <td>0.0</td>\n",
       "      <td>0.0</td>\n",
       "      <td>1.0</td>\n",
       "      <td>0.0</td>\n",
       "      <td>0</td>\n",
       "      <td>0.0</td>\n",
       "      <td>0</td>\n",
       "      <td>0.0</td>\n",
       "      <td>0.0</td>\n",
       "      <td>0.0</td>\n",
       "      <td>0.0</td>\n",
       "      <td>0.0</td>\n",
       "      <td>0.0</td>\n",
       "      <td>0.0</td>\n",
       "      <td>0.0</td>\n",
       "      <td>329151.0</td>\n",
       "      <td>0</td>\n",
       "      <td>0.0</td>\n",
       "      <td>0.0</td>\n",
       "      <td>0.0</td>\n",
       "      <td>0</td>\n",
       "      <td>2.0</td>\n",
       "      <td>1</td>\n",
       "      <td>0.0</td>\n",
       "      <td>0.0</td>\n",
       "      <td>0</td>\n",
       "    </tr>\n",
       "  </tbody>\n",
       "</table>\n",
       "</div>"
      ],
      "text/plain": [
       "   flash_point_flag  water_reactivity_flag  monolith_flag  ...  labpack_flag  national_flag  Resubmit_binary\n",
       "0               0.0                      0            0.0  ...           0.0            0.0                0\n",
       "1               2.0                      0            0.0  ...           0.0            0.0                0\n",
       "2               0.0                      0            0.0  ...           0.0            0.0                0\n",
       "3               5.0                      0            0.0  ...           0.0            0.0                0\n",
       "4               4.0                      0            0.0  ...           0.0            0.0                0\n",
       "\n",
       "[5 rows x 33 columns]"
      ]
     },
     "execution_count": 20,
     "metadata": {},
     "output_type": "execute_result"
    }
   ],
   "source": [
    "selected_columns = [\n",
    "    'flash_point_flag', 'water_reactivity_flag', 'monolith_flag', 'sulfides_reactivity_flag', 'cyanides_reactivity_flag',\n",
    "    'intercompany_flag', 'specialpricing_flag', 'benzene_waste_flag', 'sulfides_flag', 'solid_flag', 'hybrid_flag',\n",
    "    'shock_reactivity_flag', 'nrc_regulated_radioactive_flag', 'lab_pack_flag', 'gas_flag', 'directship_flag',\n",
    "    'naics_flag', 'infectious_bio_waste_flag', 'mgp_flag', 'aerosol_flag', 'pyrophoric_reactivity_flag', 'sludges_flag',\n",
    "    'parent_profile_id', 'pcbs_flag', 'halogens_flag', 'cyanides_flag', 'pesticides_flag', 'dot_explosive_flag',\n",
    "    'boiling_point_flag', 'isRecertified', 'labpack_flag', 'national_flag'\n",
    "]\n",
    "\n",
    "new_dataframe = df_final[selected_columns + ['Resubmit_binary']]\n",
    "\n",
    "new_dataframe.head()\n"
   ]
  },
  {
   "cell_type": "code",
   "execution_count": 21,
   "id": "38260f50",
   "metadata": {},
   "outputs": [
    {
     "data": {
      "text/plain": [
       "(65968, 33)"
      ]
     },
     "execution_count": 21,
     "metadata": {},
     "output_type": "execute_result"
    }
   ],
   "source": [
    "new_dataframe.shape"
   ]
  },
  {
   "cell_type": "code",
   "execution_count": 22,
   "id": "4f01be55",
   "metadata": {},
   "outputs": [],
   "source": [
    "X = new_dataframe.drop('Resubmit_binary', axis=1)\n",
    "y = new_dataframe['Resubmit_binary']\n",
    "X_train, X_test, y_train, y_test = train_test_split(X,y,test_size=0.2,random_state=42)"
   ]
  },
  {
   "cell_type": "code",
   "execution_count": 23,
   "id": "11fcddbb",
   "metadata": {},
   "outputs": [
    {
     "name": "stdout",
     "output_type": "stream",
     "text": [
      "0    64493\n",
      "1     1475\n",
      "Name: Resubmit_binary, dtype: int64\n"
     ]
    }
   ],
   "source": [
    "print(df_final['Resubmit_binary'].value_counts())\n"
   ]
  },
  {
   "cell_type": "markdown",
   "id": "c4cd3219",
   "metadata": {},
   "source": [
    "Feature selection using entropy typically involves selecting features based on their information gain or entropy."
   ]
  },
  {
   "cell_type": "markdown",
   "id": "447beeb7",
   "metadata": {},
   "source": [
    "# Logistic Regression"
   ]
  },
  {
   "cell_type": "code",
   "execution_count": 24,
   "id": "70c5b459",
   "metadata": {},
   "outputs": [],
   "source": [
    "# X = new_dataframe.drop('Resubmit_binary', axis=1)\n",
    "# y = new_dataframe['Resubmit_binary']\n",
    "# X_train, X_test, y_train, y_test = train_test_split(X,y,test_size=0.2,random_state=42)\n",
    "# from sklearn.linear_model import LogisticRegression\n",
    "# from sklearn.metrics import precision_score, recall_score, f1_score\n",
    "# logistic_regression = LogisticRegression()\n",
    "# logistic_regression.fit(X_train, y_train)\n",
    "# y_pred_lr_train = logistic_regression.predict(X_train)\n",
    "# y_pred_lr_test = logistic_regression.predict(X_test)\n",
    "\n",
    "# # Accuracy\n",
    "# accuracy_lr_train = accuracy_score(y_train, y_pred_lr_train)\n",
    "# accuracy_lr_test = accuracy_score(y_test, y_pred_lr_test)\n",
    "# print(f'Logistic Regression Training Accuracy: {accuracy_lr_train}')\n",
    "# print(f'Logistic Regression Testing Accuracy: {accuracy_lr_test}')\n",
    "# # classification report\n",
    "# # print(classification_report(y_test, y_pred_lr_test))\n",
    "# # print(confusion_matrix(y_test, y_pred_lr_test)) \n",
    "\n",
    "# precision_lr_test = precision_score(y_test, y_pred_lr_test)\n",
    "# recall_lr_test = recall_score(y_test, y_pred_lr_test)\n",
    "# f1_lr_test = f1_score(y_test, y_pred_lr_test)\n",
    "\n",
    "# # Display precision, recall, and f1-score\n",
    "# print(f'\\nPrecision: {precision_lr_test:.4f}')\n",
    "# print(f'Recall: {recall_lr_test:.4f}')\n",
    "# print(f'F1-Score: {f1_lr_test:.4f}')\n",
    "\n"
   ]
  },
  {
   "cell_type": "markdown",
   "id": "6af26123",
   "metadata": {},
   "source": [
    "# DT"
   ]
  },
  {
   "cell_type": "code",
   "execution_count": 25,
   "id": "1f669aea",
   "metadata": {},
   "outputs": [],
   "source": [
    "# from sklearn.tree import DecisionTreeClassifier\n",
    "# decision_tree = DecisionTreeClassifier(criterion='gini',max_depth=5)\n",
    "# decision_tree.fit(X_train, y_train)\n",
    "# y_pred_dt_train = decision_tree.predict(X_train)\n",
    "# y_pred_dt_test = decision_tree.predict(X_test)\n",
    "# accuracy_dt_train = accuracy_score(y_train, y_pred_dt_train)\n",
    "# accuracy_dt_test = accuracy_score(y_test, y_pred_dt_test)\n",
    "# print(f'Decision Tree Training Accuracy: {accuracy_dt_train}')\n",
    "# print(f'Decision Tree Testing Accuracy: {accuracy_dt_test}')\n",
    "# # # classification report\n",
    "# # print(classification_report(y_test, y_pred_dt_test))\n",
    "# # print(confusion_matrix(y_test, y_pred_dt_test))\n",
    "\n",
    "# precision_dt_test = precision_score(y_test, y_pred_dt_test)\n",
    "# recall_dt_test = recall_score(y_test, y_pred_dt_test)\n",
    "# f1_dt_test = f1_score(y_test, y_pred_dt_test)\n",
    "\n",
    "# # Display precision, recall, and f1-score\n",
    "# print(f'\\nPrecision: {precision_dt_test:.4f}')\n",
    "# print(f'Recall: {recall_dt_test:.4f}')\n",
    "# print(f'F1-Score: {f1_dt_test:.4f}')"
   ]
  },
  {
   "cell_type": "code",
   "execution_count": 26,
   "id": "c301ce69",
   "metadata": {},
   "outputs": [],
   "source": [
    "# from sklearn.naive_bayes import GaussianNB\n",
    "# naive_bayes = GaussianNB()\n",
    "# naive_bayes.fit(X_train, y_train)\n",
    "# y_pred_nb_train = naive_bayes.predict(X_train)\n",
    "# y_pred_nb_test = naive_bayes.predict(X_test)\n",
    "\n",
    "# # Accuracy\n",
    "# accuracy_nb_train = accuracy_score(y_train, y_pred_nb_train)\n",
    "# accuracy_nb_test = accuracy_score(y_test, y_pred_nb_test)\n",
    "# print(f'Naive Bayes Training Accuracy: {accuracy_nb_train:.4f}')\n",
    "# print(f'Naive Bayes Testing Accuracy: {accuracy_nb_test:.4f}')\n",
    "\n",
    "# # Precision, Recall, and F1-Score\n",
    "# precision_nb_test = precision_score(y_test, y_pred_nb_test)\n",
    "# recall_nb_test = recall_score(y_test, y_pred_nb_test)\n",
    "# f1_nb_test = f1_score(y_test, y_pred_nb_test)\n",
    "\n",
    "# # Display precision, recall, and f1-score\n",
    "# print(f'\\nPrecision: {precision_nb_test:.4f}')\n",
    "# print(f'Recall: {recall_nb_test:.4f}')\n",
    "# print(f'F1-Score: {f1_nb_test:.4f}')\n"
   ]
  },
  {
   "cell_type": "code",
   "execution_count": 27,
   "id": "114894ed",
   "metadata": {},
   "outputs": [],
   "source": [
    "# from sklearn.neighbors import KNeighborsClassifier\n",
    "# k_neighbors = 7\n",
    "# knn_classifier = KNeighborsClassifier(n_neighbors=k_neighbors)\n",
    "# knn_classifier.fit(X_train, y_train)\n",
    "# y_pred_knn_train = knn_classifier.predict(X_train)\n",
    "\n",
    "# # Predictions on the test set\n",
    "# y_pred_knn_test = knn_classifier.predict(X_test)\n",
    "\n",
    "# # Accuracy\n",
    "# accuracy_knn_train = accuracy_score(y_train, y_pred_knn_train)\n",
    "# accuracy_knn_test = accuracy_score(y_test, y_pred_knn_test)\n",
    "# print(f'KNN Training Accuracy: {accuracy_knn_train:.4f}')\n",
    "# print(f'KNN Testing Accuracy: {accuracy_knn_test:.4f}')\n",
    "\n",
    "# # Precision, Recall, and F1-Score\n",
    "# precision_knn_test = precision_score(y_test, y_pred_knn_test)\n",
    "# recall_knn_test = recall_score(y_test, y_pred_knn_test)\n",
    "# f1_knn_test = f1_score(y_test, y_pred_knn_test)\n",
    "\n",
    "# # Display precision, recall, and f1-score\n",
    "# print(f'\\nPrecision: {precision_knn_test:.4f}')\n",
    "# print(f'Recall: {recall_knn_test:.4f}')\n",
    "# print(f'F1-Score: {f1_knn_test:.4f}')\n"
   ]
  },
  {
   "cell_type": "code",
   "execution_count": 28,
   "id": "1cceb968",
   "metadata": {},
   "outputs": [],
   "source": [
    "# from sklearn.ensemble import IsolationForest\n",
    "# from sklearn.metrics import accuracy_score, precision_score, recall_score, f1_score\n",
    "# isolation_forest_model = IsolationForest(contamination=0.01, random_state=42)\n",
    "# isolation_forest_model.fit(X_train)\n",
    "# y_pred_rf_train = isolation_forest_model.predict(X_train)\n",
    "# y_pred_rf_test = isolation_forest_model.predict(X_test)\n",
    "# # Convert predictions to binary labels (1 for outliers, -1 for inliers)\n",
    "# y_pred_rf_train_binary = [1 if pred == -1 else 0 for pred in y_pred_rf_train]\n",
    "# y_pred_rf_test_binary = [1 if pred == -1 else 0 for pred in y_pred_rf_test]\n",
    "# accuracy_rf_train = accuracy_score(y_train, y_pred_rf_train_binary)\n",
    "# accuracy_rf_test = accuracy_score(y_test, y_pred_rf_test_binary)\n",
    "# print(f'Isolation Forest Training Accuracy: {accuracy_rf_train}')\n",
    "# print(f'Isolation Forest Testing Accuracy: {accuracy_rf_test}')\n",
    "\n",
    "# precision_rf_test = precision_score(y_test, y_pred_rf_test_binary)\n",
    "# recall_rf_test = recall_score(y_test, y_pred_rf_test_binary)\n",
    "# f1_rf_test = f1_score(y_test, y_pred_rf_test_binary)\n",
    "\n",
    "# print(f'\\nPrecision: {precision_rf_test:.4f}')\n",
    "# print(f'Recall: {recall_rf_test:.4f}')\n",
    "# print(f'F1-Score: {f1_rf_test:.4f}')\n"
   ]
  },
  {
   "cell_type": "markdown",
   "id": "9a86de05",
   "metadata": {},
   "source": [
    "# Under Sampling"
   ]
  },
  {
   "cell_type": "code",
   "execution_count": 29,
   "id": "3e4ad62c",
   "metadata": {},
   "outputs": [
    {
     "data": {
      "text/plain": [
       "(65968, 33)"
      ]
     },
     "execution_count": 29,
     "metadata": {},
     "output_type": "execute_result"
    }
   ],
   "source": [
    "new_dataframe.shape"
   ]
  },
  {
   "cell_type": "code",
   "execution_count": 30,
   "id": "566353d8",
   "metadata": {},
   "outputs": [],
   "source": [
    "XX = new_dataframe.drop('Resubmit_binary', axis='columns')\n",
    "yy = new_dataframe['Resubmit_binary']\n",
    "#X_train, X_test, y_train, y_test = train_test_split(X, y, test_size=0.2, random_state=42)"
   ]
  },
  {
   "cell_type": "code",
   "execution_count": 31,
   "id": "1d97aca7",
   "metadata": {},
   "outputs": [],
   "source": [
    "count_0_class,count_1_class = new_dataframe.Resubmit_binary.value_counts()\n",
    "df_class_0 = new_dataframe[new_dataframe[\"Resubmit_binary\"]==0]\n",
    "df_class_1 = new_dataframe[new_dataframe[\"Resubmit_binary\"]==1]\n",
    "XX_train, XX_test, yy_train, yy_test = train_test_split(XX,yy, test_size=0.2,random_state=15,stratify=yy)"
   ]
  },
  {
   "cell_type": "code",
   "execution_count": 32,
   "id": "c2fcbff8",
   "metadata": {},
   "outputs": [],
   "source": [
    "# count_0_class_under = int(count_0_class*0.8)\n",
    "# df_class_0_under = df_class_0.sample(count_0_class_under)\n",
    "# df_test_under = pd.concat([df_class_0_under, df_class_1], axis=0)\n",
    "\n",
    "# print('Random Under-sampling:')\n",
    "# print(df_test_under.Resubmit_binary.value_counts())"
   ]
  },
  {
   "cell_type": "code",
   "execution_count": 33,
   "id": "f56c6bf2",
   "metadata": {},
   "outputs": [],
   "source": [
    "# df_class_0_under = df_class_0.sample(count_1_class)\n",
    "# df_test_under = pd.concat([df_class_0_under, df_class_1],axis=0)\n",
    "# print('Random Under-sampling:')\n",
    "# print(df_test_under.Resubmit_binary.value_counts())"
   ]
  },
  {
   "cell_type": "code",
   "execution_count": 34,
   "id": "ea2f3e4c",
   "metadata": {},
   "outputs": [],
   "source": [
    "# XX = df_test_under.drop('Resubmit_binary', axis='columns')\n",
    "# yy= df_test_under['Resubmit_binary']\n",
    "# #XX_train, XX_test, yy_train, yy_test = train_test_split(XX,yy, test_size=0.2,random_state=42,stratify=yy)"
   ]
  },
  {
   "cell_type": "code",
   "execution_count": 35,
   "id": "13349836",
   "metadata": {},
   "outputs": [
    {
     "name": "stdout",
     "output_type": "stream",
     "text": [
      "Random Under-sampling for Training Data:\n",
      "0    1180\n",
      "1    1180\n",
      "Name: Resubmit_binary, dtype: int64\n"
     ]
    }
   ],
   "source": [
    "XX_train, XX_test, yy_train, yy_test = train_test_split(XX, yy, test_size=0.2, random_state=15, stratify=yy)\n",
    "\n",
    "df_class_0_train = XX_train[yy_train == 0]\n",
    "df_class_1_train = XX_train[yy_train == 1]\n",
    "df_class_0_under_train = df_class_0_train.sample(n=len(df_class_1_train), replace=True, random_state=42)\n",
    "XX_train_under = pd.concat([df_class_0_under_train, df_class_1_train], axis=0)\n",
    "yy_train_under = yy_train.loc[XX_train_under.index]\n",
    "\n",
    "print('Random Under-sampling for Training Data:')\n",
    "print(yy_train_under.value_counts())\n"
   ]
  },
  {
   "cell_type": "code",
   "execution_count": 36,
   "id": "d01f61b6",
   "metadata": {},
   "outputs": [
    {
     "data": {
      "text/plain": [
       "(2360, 32)"
      ]
     },
     "execution_count": 36,
     "metadata": {},
     "output_type": "execute_result"
    }
   ],
   "source": [
    "XX_train_under.shape"
   ]
  },
  {
   "cell_type": "code",
   "execution_count": 37,
   "id": "1b4bbc03",
   "metadata": {},
   "outputs": [
    {
     "data": {
      "text/plain": [
       "0    12899\n",
       "1      295\n",
       "Name: Resubmit_binary, dtype: int64"
      ]
     },
     "execution_count": 37,
     "metadata": {},
     "output_type": "execute_result"
    }
   ],
   "source": [
    "yy_test.value_counts()"
   ]
  },
  {
   "cell_type": "markdown",
   "id": "062cbd80",
   "metadata": {},
   "source": [
    "# Decision_tree"
   ]
  },
  {
   "cell_type": "code",
   "execution_count": 38,
   "id": "ec8cebd9",
   "metadata": {},
   "outputs": [
    {
     "name": "stdout",
     "output_type": "stream",
     "text": [
      "Logistic Regression Training Accuracy: 0.5800847457627119\n",
      "Logistic Regression Testing Accuracy: 0.5652569349704412\n",
      "\n",
      "Precision: 0.0288\n",
      "Recall: 0.5627\n",
      "F1-Score: 0.0547\n"
     ]
    }
   ],
   "source": [
    "# from sklearn.linear_model import LogisticRegression\n",
    "# from sklearn.metrics import precision_score, recall_score, f1_score\n",
    "# logistic_regression = LogisticRegression()\n",
    "# logistic_regression.fit(XX_train_under, yy_train_under)\n",
    "# y_pred_lr_train = logistic_regression.predict(XX_train_under)\n",
    "# y_pred_lr_test = logistic_regression.predict(XX_test)\n",
    "# accuracy_lr_train = accuracy_score(yy_train_under, y_pred_lr_train)\n",
    "# accuracy_lr_test = accuracy_score(yy_test, y_pred_lr_test)\n",
    "# print(f'Logistic Regression Training Accuracy: {accuracy_lr_train}')\n",
    "# print(f'Logistic Regression Testing Accuracy: {accuracy_lr_test}')\n",
    "# precision_lr_test = precision_score(yy_test, y_pred_lr_test)\n",
    "# recall_lr_test = recall_score(yy_test, y_pred_lr_test)\n",
    "# f1_lr_test = f1_score(yy_test, y_pred_lr_test)\n",
    "\n",
    "# print(f'\\nPrecision: {precision_lr_test:.4f}')\n",
    "# print(f'Recall: {recall_lr_test:.4f}')\n",
    "# print(f'F1-Score: {f1_lr_test:.4f}')\n",
    "\n",
    "# # cv_scores = cross_val_score(logistic_regression, XX_train, yy_train, cv=10) \n",
    "# # print(\"Cross-Validation Scores:\", cv_scores)"
   ]
  },
  {
   "cell_type": "code",
   "execution_count": 40,
   "id": "3db3a501",
   "metadata": {},
   "outputs": [
    {
     "name": "stdout",
     "output_type": "stream",
     "text": [
      "Decision Tree Training Accuracy: 0.7741525423728813\n",
      "Decision Tree Testing Accuracy: 0.6609822646657572\n",
      "\n",
      "Precision: 0.0552\n",
      "Recall: 0.8780\n",
      "F1-Score: 0.1038\n"
     ]
    }
   ],
   "source": [
    "from sklearn.tree import DecisionTreeClassifier\n",
    "from sklearn.model_selection import cross_val_score\n",
    "\n",
    "decision_tree = DecisionTreeClassifier(criterion='gini',max_depth=5)\n",
    "decision_tree.fit(XX_train_under, yy_train_under)\n",
    "y_pred_dt_train = decision_tree.predict(XX_train_under)\n",
    "y_pred_dt_test = decision_tree.predict(XX_test)\n",
    "accuracy_dt_train = accuracy_score(yy_train_under, y_pred_dt_train)\n",
    "accuracy_dt_test = accuracy_score(yy_test, y_pred_dt_test)\n",
    "print(f'Decision Tree Training Accuracy: {accuracy_dt_train}')\n",
    "print(f'Decision Tree Testing Accuracy: {accuracy_dt_test}')\n",
    "# # classification report\n",
    "# print(classification_report(y_test, y_pred_dt_test))\n",
    "# print(confusion_matrix(y_test, y_pred_dt_test))\n",
    "\n",
    "precision_dt_test = precision_score(yy_test, y_pred_dt_test)\n",
    "recall_dt_test = recall_score(yy_test, y_pred_dt_test)\n",
    "f1_dt_test = f1_score(yy_test, y_pred_dt_test)\n",
    "\n",
    "# Display precision, recall, and f1-score\n",
    "print(f'\\nPrecision: {precision_dt_test:.4f}')\n",
    "print(f'Recall: {recall_dt_test:.4f}')\n",
    "print(f'F1-Score: {f1_dt_test:.4f}')\n",
    "\n",
    "# cv_scores = cross_val_score(decision_tree, XX_train, yy_train, cv=10) \n",
    "# print(\"Cross-Validation Scores:\", cv_scores)"
   ]
  },
  {
   "cell_type": "code",
   "execution_count": 41,
   "id": "a0efd5f0",
   "metadata": {},
   "outputs": [
    {
     "name": "stdout",
     "output_type": "stream",
     "text": [
      "Sensitivity (Recall): 0.8780\n",
      "Specificity: 0.6560\n"
     ]
    }
   ],
   "source": [
    "from sklearn.metrics import confusion_matrix\n",
    "\n",
    "conf_matrix = confusion_matrix(yy_test, y_pred_dt_test)\n",
    "tn, fp, fn, tp = conf_matrix.ravel()\n",
    "\n",
    "sensitivity = tp / (tp + fn)\n",
    "specificity = tn / (tn + fp)\n",
    "\n",
    "print(f'Sensitivity (Recall): {sensitivity:.4f}')\n",
    "print(f'Specificity: {specificity:.4f}')\n"
   ]
  },
  {
   "cell_type": "code",
   "execution_count": null,
   "id": "604f70ae",
   "metadata": {},
   "outputs": [],
   "source": [
    "# from sklearn.naive_bayes import GaussianNB\n",
    "# naive_bayes = GaussianNB()\n",
    "# naive_bayes.fit(XX_train_under, yy_train_under)\n",
    "# y_pred_nb_train = naive_bayes.predict(XX_train_under)\n",
    "# y_pred_nb_test = naive_bayes.predict(XX_test)\n",
    "\n",
    "# # Accuracy\n",
    "# accuracy_nb_train = accuracy_score(yy_train_under, y_pred_nb_train)\n",
    "# accuracy_nb_test = accuracy_score(yy_test, y_pred_nb_test)\n",
    "# print(f'Naive Bayes Training Accuracy: {accuracy_nb_train:.4f}')\n",
    "# print(f'Naive Bayes Testing Accuracy: {accuracy_nb_test:.4f}')\n",
    "\n",
    "# precision_nb_test = precision_score(yy_test, y_pred_nb_test)\n",
    "# recall_nb_test = recall_score(yy_test, y_pred_nb_test)\n",
    "# f1_nb_test = f1_score(yy_test, y_pred_nb_test)\n",
    "\n",
    "# print(f'\\nPrecision: {precision_nb_test:.4f}')\n",
    "# print(f'Recall: {recall_nb_test:.4f}')\n",
    "# print(f'F1-Score: {f1_nb_test:.4f}')\n"
   ]
  },
  {
   "cell_type": "code",
   "execution_count": null,
   "id": "bd9559be",
   "metadata": {},
   "outputs": [],
   "source": [
    "# from sklearn.neighbors import KNeighborsClassifier\n",
    "# k_neighbors = 5\n",
    "# knn_classifier = KNeighborsClassifier(n_neighbors=k_neighbors)\n",
    "# knn_classifier.fit(XX_train_under, yy_train_under)\n",
    "# y_pred_knn_train = knn_classifier.predict(XX_train_under)\n",
    "\n",
    "# # Predictions on the test set\n",
    "# y_pred_knn_test = knn_classifier.predict(XX_test)\n",
    "\n",
    "# # Accuracy\n",
    "# accuracy_knn_train = accuracy_score(yy_train_under, y_pred_knn_train)\n",
    "# accuracy_knn_test = accuracy_score(yy_test, y_pred_knn_test)\n",
    "# print(f'KNN Training Accuracy: {accuracy_knn_train:.4f}')\n",
    "# print(f'KNN Testing Accuracy: {accuracy_knn_test:.4f}')\n",
    "\n",
    "# precision_knn_test = precision_score(yy_test, y_pred_knn_test)\n",
    "# recall_knn_test = recall_score(yy_test, y_pred_knn_test)\n",
    "# f1_knn_test = f1_score(yy_test, y_pred_knn_test)\n",
    "\n",
    "# print(f'\\nPrecision: {precision_knn_test:.4f}')\n",
    "# print(f'Recall: {recall_knn_test:.4f}')\n",
    "# print(f'F1-Score: {f1_knn_test:.4f}')\n"
   ]
  },
  {
   "cell_type": "code",
   "execution_count": null,
   "id": "39013438",
   "metadata": {},
   "outputs": [],
   "source": [
    "# from xgboost import XGBClassifier\n",
    "# import xgboost\n",
    "# from sklearn.metrics import accuracy_score, precision_score, recall_score, f1_score\n",
    "\n",
    "# xgb_model = XGBClassifier()\n",
    "# xgb_model.fit(XX_train_under, yy_train_under)\n",
    "\n",
    "# y_pred_xgb_train = xgb_model.predict(XX_train_under)\n",
    "# y_pred_xgb_test = xgb_model.predict(XX_test)\n",
    "\n",
    "# accuracy_xgb_train = accuracy_score(yy_train_under, y_pred_xgb_train)\n",
    "# accuracy_xgb_test = accuracy_score(yy_test, y_pred_xgb_test)\n",
    "\n",
    "# print(f'XGBoost Training Accuracy: {accuracy_xgb_train}')\n",
    "# print(f'XGBoost Testing Accuracy: {accuracy_xgb_test}')\n",
    "\n",
    "# precision_xgb_test = precision_score(yy_test, y_pred_xgb_test)\n",
    "# recall_xgb_test = recall_score(yy_test, y_pred_xgb_test)\n",
    "# f1_xgb_test = f1_score(yy_test, y_pred_xgb_test)\n",
    "\n",
    "# print(f'\\nPrecision (XGBoost): {precision_xgb_test:.4f}')\n",
    "# print(f'Recall (XGBoost): {recall_xgb_test:.4f}')\n",
    "# print(f'F1-Score (XGBoost): {f1_xgb_test:.4f}')\n",
    "\n",
    "\n",
    "# # cv_scores = cross_val_score(xgb_model, XX_train, yy_train, cv=10) \n",
    "# # print(\"Cross-Validation Scores:\", cv_scores)"
   ]
  },
  {
   "cell_type": "code",
   "execution_count": 42,
   "id": "beaf7c7e",
   "metadata": {},
   "outputs": [
    {
     "data": {
      "text/plain": [
       "['decision_tree.pkl']"
      ]
     },
     "execution_count": 42,
     "metadata": {},
     "output_type": "execute_result"
    }
   ],
   "source": [
    "import joblib\n",
    "model = decision_tree\n",
    "joblib.dump(model, 'decision_tree.pkl', protocol=4)  # Use a specific protocol version"
   ]
  },
  {
   "cell_type": "code",
   "execution_count": 43,
   "id": "72976597",
   "metadata": {},
   "outputs": [],
   "source": [
    "import joblib\n",
    "model_case = joblib.load('decision_tree.pkl')"
   ]
  },
  {
   "cell_type": "code",
   "execution_count": null,
   "id": "ea1a9d92",
   "metadata": {},
   "outputs": [],
   "source": [
    "#X_top30.to_csv('your_file_path.csv', index=False)\n",
    "#new_dataframe.to_csv(r'C:\\Users\\RameshMisale\\Downloads\\new_dataframe1.csv', index=False)"
   ]
  },
  {
   "cell_type": "markdown",
   "id": "44c50572",
   "metadata": {},
   "source": [
    "# Gaussian Naive Bayes classifier"
   ]
  },
  {
   "cell_type": "code",
   "execution_count": null,
   "id": "796a130c",
   "metadata": {},
   "outputs": [],
   "source": [
    "# from sklearn.naive_bayes import GaussianNB\n",
    "# naive_bayes = GaussianNB()\n",
    "# naive_bayes.fit(XX_train, yy_train)\n",
    "# y_pred_nb_train = naive_bayes.predict(XX_train)\n",
    "# y_pred_nb_test = naive_bayes.predict(XX_test)\n",
    "\n",
    "# # Accuracy\n",
    "# accuracy_nb_train = accuracy_score(yy_train, y_pred_nb_train)\n",
    "# accuracy_nb_test = accuracy_score(yy_test, y_pred_nb_test)\n",
    "# print(f'Naive Bayes Training Accuracy: {accuracy_nb_train:.4f}')\n",
    "# print(f'Naive Bayes Testing Accuracy: {accuracy_nb_test:.4f}')\n",
    "\n",
    "# # Precision, Recall, and F1-Score\n",
    "# precision_nb_test = precision_score(yy_test, y_pred_nb_test)\n",
    "# recall_nb_test = recall_score(yy_test, y_pred_nb_test)\n",
    "# f1_nb_test = f1_score(yy_test, y_pred_nb_test)\n",
    "\n",
    "# # Display precision, recall, and f1-score\n",
    "# print(f'\\nPrecision: {precision_nb_test:.4f}')\n",
    "# print(f'Recall: {recall_nb_test:.4f}')\n",
    "# print(f'F1-Score: {f1_nb_test:.4f}')\n"
   ]
  },
  {
   "cell_type": "markdown",
   "id": "741589ec",
   "metadata": {},
   "source": [
    "# KNeighborsClassifier"
   ]
  },
  {
   "cell_type": "code",
   "execution_count": null,
   "id": "c1fa47f6",
   "metadata": {},
   "outputs": [],
   "source": [
    "# from sklearn.neighbors import KNeighborsClassifier\n",
    "# k_neighbors = 5\n",
    "# knn_classifier = KNeighborsClassifier(n_neighbors=k_neighbors)\n",
    "# knn_classifier.fit(XX_train, yy_train)\n",
    "# y_pred_knn_train = knn_classifier.predict(XX_train)\n",
    "\n",
    "# # Predictions on the test set\n",
    "# y_pred_knn_test = knn_classifier.predict(XX_test)\n",
    "\n",
    "# # Accuracy\n",
    "# accuracy_knn_train = accuracy_score(yy_train, y_pred_knn_train)\n",
    "# accuracy_knn_test = accuracy_score(yy_test, y_pred_knn_test)\n",
    "# print(f'KNN Training Accuracy: {accuracy_knn_train:.4f}')\n",
    "# print(f'KNN Testing Accuracy: {accuracy_knn_test:.4f}')\n",
    "\n",
    "# # Precision, Recall, and F1-Score\n",
    "# precision_knn_test = precision_score(yy_test, y_pred_knn_test)\n",
    "# recall_knn_test = recall_score(yy_test, y_pred_knn_test)\n",
    "# f1_knn_test = f1_score(yy_test, y_pred_knn_test)\n",
    "\n",
    "# # Display precision, recall, and f1-score\n",
    "# print(f'\\nPrecision: {precision_knn_test:.4f}')\n",
    "# print(f'Recall: {recall_knn_test:.4f}')\n",
    "# print(f'F1-Score: {f1_knn_test:.4f}')\n"
   ]
  },
  {
   "cell_type": "code",
   "execution_count": null,
   "id": "524a7a0e",
   "metadata": {},
   "outputs": [],
   "source": []
  },
  {
   "cell_type": "code",
   "execution_count": null,
   "id": "c79e4e4c",
   "metadata": {},
   "outputs": [],
   "source": []
  },
  {
   "cell_type": "code",
   "execution_count": null,
   "id": "8768ed7c",
   "metadata": {},
   "outputs": [],
   "source": []
  }
 ],
 "metadata": {
  "kernelspec": {
   "display_name": "Python 3 (ipykernel)",
   "language": "python",
   "name": "python3"
  },
  "language_info": {
   "codemirror_mode": {
    "name": "ipython",
    "version": 3
   },
   "file_extension": ".py",
   "mimetype": "text/x-python",
   "name": "python",
   "nbconvert_exporter": "python",
   "pygments_lexer": "ipython3",
   "version": "3.11.4"
  }
 },
 "nbformat": 4,
 "nbformat_minor": 5
}
